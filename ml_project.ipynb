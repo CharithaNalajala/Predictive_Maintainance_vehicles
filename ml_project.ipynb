{
 "cells": [
  {
   "cell_type": "code",
   "execution_count": 28,
   "id": "83bc67ae-0d64-4aff-8922-a4b5eea18e7c",
   "metadata": {},
   "outputs": [
    {
     "name": "stdout",
     "output_type": "stream",
     "text": [
      "Requirement already satisfied: pandas in c:\\users\\nalaj\\appdata\\roaming\\python\\python312\\site-packages (2.2.3)\n",
      "Requirement already satisfied: numpy in c:\\users\\nalaj\\appdata\\roaming\\python\\python312\\site-packages (2.0.2)\n",
      "Requirement already satisfied: matplotlib in c:\\users\\nalaj\\appdata\\roaming\\python\\python312\\site-packages (3.10.0)\n",
      "Requirement already satisfied: seaborn in c:\\users\\nalaj\\anaconda3\\lib\\site-packages (0.13.2)\n",
      "Requirement already satisfied: scikit-learn in c:\\users\\nalaj\\anaconda3\\lib\\site-packages (1.5.1)\n",
      "Requirement already satisfied: python-dateutil>=2.8.2 in c:\\users\\nalaj\\appdata\\roaming\\python\\python312\\site-packages (from pandas) (2.9.0.post0)\n",
      "Requirement already satisfied: pytz>=2020.1 in c:\\users\\nalaj\\appdata\\roaming\\python\\python312\\site-packages (from pandas) (2025.1)\n",
      "Requirement already satisfied: tzdata>=2022.7 in c:\\users\\nalaj\\appdata\\roaming\\python\\python312\\site-packages (from pandas) (2025.1)\n",
      "Requirement already satisfied: contourpy>=1.0.1 in c:\\users\\nalaj\\appdata\\roaming\\python\\python312\\site-packages (from matplotlib) (1.3.1)\n",
      "Requirement already satisfied: cycler>=0.10 in c:\\users\\nalaj\\appdata\\roaming\\python\\python312\\site-packages (from matplotlib) (0.12.1)\n",
      "Requirement already satisfied: fonttools>=4.22.0 in c:\\users\\nalaj\\appdata\\roaming\\python\\python312\\site-packages (from matplotlib) (4.55.8)\n",
      "Requirement already satisfied: kiwisolver>=1.3.1 in c:\\users\\nalaj\\appdata\\roaming\\python\\python312\\site-packages (from matplotlib) (1.4.8)\n",
      "Requirement already satisfied: packaging>=20.0 in c:\\users\\nalaj\\appdata\\roaming\\python\\python312\\site-packages (from matplotlib) (24.2)\n",
      "Requirement already satisfied: pillow>=8 in c:\\users\\nalaj\\appdata\\roaming\\python\\python312\\site-packages (from matplotlib) (11.1.0)\n",
      "Requirement already satisfied: pyparsing>=2.3.1 in c:\\users\\nalaj\\appdata\\roaming\\python\\python312\\site-packages (from matplotlib) (3.2.1)\n",
      "Requirement already satisfied: scipy>=1.6.0 in c:\\users\\nalaj\\anaconda3\\lib\\site-packages (from scikit-learn) (1.13.1)\n",
      "Requirement already satisfied: joblib>=1.2.0 in c:\\users\\nalaj\\appdata\\roaming\\python\\python312\\site-packages (from scikit-learn) (1.4.2)\n",
      "Requirement already satisfied: threadpoolctl>=3.1.0 in c:\\users\\nalaj\\anaconda3\\lib\\site-packages (from scikit-learn) (3.5.0)\n",
      "Requirement already satisfied: six>=1.5 in c:\\users\\nalaj\\appdata\\roaming\\python\\python312\\site-packages (from python-dateutil>=2.8.2->pandas) (1.16.0)\n"
     ]
    }
   ],
   "source": [
    "!pip install pandas numpy matplotlib seaborn scikit-learn\n",
    "\n",
    "\n"
   ]
  },
  {
   "cell_type": "code",
   "execution_count": 2,
   "id": "809bd36c-a77c-4792-ab4b-9ac1fff2e57b",
   "metadata": {},
   "outputs": [
    {
     "name": "stdout",
     "output_type": "stream",
     "text": [
      "Dataset downloaded successfully! ✅\n"
     ]
    }
   ],
   "source": [
    "import requests\n",
    "\n",
    "# GitHub raw URL of the dataset\n",
    "url = \"https://raw.githubusercontent.com/nassriayman/Predictive-Maintenance-for-Vehicules/main/engine_data.csv\"\n",
    "\n",
    "# Save the dataset\n",
    "response = requests.get(url)\n",
    "with open(\"engine_data.csv\", \"wb\") as file:\n",
    "    file.write(response.content)\n",
    "\n",
    "print(\"Dataset downloaded successfully! ✅\")\n"
   ]
  },
  {
   "cell_type": "code",
   "execution_count": 3,
   "id": "0788427d-8d9b-4d38-8989-c1123e160004",
   "metadata": {},
   "outputs": [
    {
     "name": "stdout",
     "output_type": "stream",
     "text": [
      "   Engine rpm  Lub oil pressure  Fuel pressure  Coolant pressure  \\\n",
      "0         700          2.493592      11.790927          3.178981   \n",
      "1         876          2.941606      16.193866          2.464504   \n",
      "2         520          2.961746       6.553147          1.064347   \n",
      "3         473          3.707835      19.510172          3.727455   \n",
      "4         619          5.672919      15.738871          2.052251   \n",
      "\n",
      "   lub oil temp  Coolant temp  Engine Condition  \n",
      "0     84.144163     81.632187                 1  \n",
      "1     77.640934     82.445724                 0  \n",
      "2     77.752266     79.645777                 1  \n",
      "3     74.129907     71.774629                 1  \n",
      "4     78.396989     87.000225                 0  \n",
      "Index(['Engine rpm', 'Lub oil pressure', 'Fuel pressure', 'Coolant pressure',\n",
      "       'lub oil temp', 'Coolant temp', 'Engine Condition'],\n",
      "      dtype='object')\n"
     ]
    }
   ],
   "source": [
    "import pandas as pd\n",
    "\n",
    "# Load dataset\n",
    "df = pd.read_csv(\"engine_data.csv\")\n",
    "\n",
    "# Display first few rows\n",
    "print(df.head())\n",
    "\n",
    "# Check column names\n",
    "print(df.columns)"
   ]
  },
  {
   "cell_type": "code",
   "execution_count": 4,
   "id": "7ee67cfe-8487-4b2c-90fd-f08c55d57fd6",
   "metadata": {},
   "outputs": [
    {
     "name": "stdout",
     "output_type": "stream",
     "text": [
      "✅ Updated dataset saved as 'updated_engine_data.csv'\n"
     ]
    }
   ],
   "source": [
    "import numpy as np\n",
    "import pandas as pd\n",
    "import random\n",
    "\n",
    "# Load the existing dataset\n",
    "df = pd.read_csv(\"engine_data.csv\")  # Replace with your actual file name\n",
    "\n",
    "# Add new columns with synthetic values\n",
    "np.random.seed(42)\n",
    "\n",
    "df[\"tire_pressure\"] = np.random.normal(loc=32, scale=2, size=len(df))  # Normal ~32 PSI\n",
    "df[\"battery_voltage\"] = np.random.normal(loc=12.5, scale=0.5, size=len(df))  # Normal ~12.5V\n",
    "df[\"brake_pad_thickness\"] = np.linspace(10, 2, num=len(df))  # Gradual brake wear\n",
    "df[\"transmission_temp\"] = np.random.normal(loc=85, scale=5, size=len(df))  # Normal ~85°C\n",
    "\n",
    "# Ensure \"failure_label\" column exists (initialize with 0 if missing)\n",
    "if \"failure_label\" not in df.columns:\n",
    "    df[\"failure_label\"] = 0  # Assume no failures initially\n",
    "\n",
    "# Introduce random failures\n",
    "failure_indices = random.sample(range(len(df)), k=500)  # Select random failure points\n",
    "\n",
    "for idx in failure_indices:\n",
    "    failure_type = np.random.choice([\"tire\", \"battery\", \"brake\", \"transmission\"])\n",
    "    \n",
    "    if failure_type == \"tire\":\n",
    "        df.at[idx, \"tire_pressure\"] = np.random.uniform(10, 18)  # Low tire pressure (Failure)\n",
    "    elif failure_type == \"battery\":\n",
    "        df.at[idx, \"battery_voltage\"] = np.random.uniform(8, 9.5)  # Low battery voltage (Failure)\n",
    "    elif failure_type == \"brake\":\n",
    "        df.at[idx, \"brake_pad_thickness\"] = np.random.uniform(0.5, 2)  # Worn-out brakes (Failure)\n",
    "    elif failure_type == \"transmission\":\n",
    "        df.at[idx, \"transmission_temp\"] = np.random.uniform(115, 140)  # Overheating (Failure)\n",
    "\n",
    "# Update failure labels based on new failure conditions\n",
    "df[\"failure_label\"] = (\n",
    "    (df[\"failure_label\"] == 1) |  # Keep existing failures\n",
    "    (df[\"tire_pressure\"] < 20) |\n",
    "    (df[\"battery_voltage\"] < 10) |\n",
    "    (df[\"brake_pad_thickness\"] < 3) |\n",
    "    (df[\"transmission_temp\"] > 110)\n",
    ").astype(int)  # Convert to 0 or 1\n",
    "\n",
    "# Save the updated dataset\n",
    "df.to_csv(\"updated_engine_data.csv\", index=False)\n",
    "\n",
    "print(\"✅ Updated dataset saved as 'updated_engine_data.csv'\")\n",
    "\n"
   ]
  },
  {
   "cell_type": "code",
   "execution_count": 8,
   "id": "2e29b98f-3864-4fa9-a004-735ed172c718",
   "metadata": {},
   "outputs": [
    {
     "name": "stdout",
     "output_type": "stream",
     "text": [
      "✅ Dataset updated successfully! 'vehicle_failure' column added.\n"
     ]
    }
   ],
   "source": [
    "import pandas as pd\n",
    "\n",
    "# Load dataset\n",
    "df = pd.read_csv(\"updated_engine_data.csv\")  # Make sure to load the correct dataset\n",
    "\n",
    "# Ensure 'failure_label' and 'Engine Condition' exist\n",
    "if \"failure_label\" in df.columns and \"Engine Condition\" in df.columns:\n",
    "    # Create the new target column\n",
    "    df[\"vehicle_failure\"] = ((df[\"failure_label\"] == 1) | (df[\"Engine Condition\"] == 1)).astype(int)\n",
    "else:\n",
    "    print(\"Error: Columns 'failure_label' or 'Engine Condition' are missing in the dataset.\")\n",
    "\n",
    "# Save the updated dataset\n",
    "df.to_csv(\"final_vehicle_data.csv\", index=False)\n",
    "\n",
    "print(\"✅ Dataset updated successfully! 'vehicle_failure' column added.\")\n"
   ]
  },
  {
   "cell_type": "code",
   "execution_count": 5,
   "id": "2dda3fea-cf53-453a-a778-bf09933f0bed",
   "metadata": {},
   "outputs": [
    {
     "name": "stdout",
     "output_type": "stream",
     "text": [
      "   Engine rpm  Lub oil pressure  Fuel pressure  Coolant pressure  \\\n",
      "0         700          2.493592      11.790927          3.178981   \n",
      "1         876          2.941606      16.193866          2.464504   \n",
      "2         520          2.961746       6.553147          1.064347   \n",
      "3         473          3.707835      19.510172          3.727455   \n",
      "4         619          5.672919      15.738871          2.052251   \n",
      "\n",
      "   lub oil temp  Coolant temp  Engine Condition  tire_pressure  \\\n",
      "0     84.144163     81.632187                 1      32.993428   \n",
      "1     77.640934     82.445724                 0      31.723471   \n",
      "2     77.752266     79.645777                 1      33.295377   \n",
      "3     74.129907     71.774629                 1      35.046060   \n",
      "4     78.396989     87.000225                 0      31.531693   \n",
      "\n",
      "   battery_voltage  brake_pad_thickness  transmission_temp  failure_label  \\\n",
      "0        12.292718            10.000000          85.979270              0   \n",
      "1        12.101888             9.999590          78.653798              0   \n",
      "2        12.153151             9.999181          88.331885              0   \n",
      "3        12.389198             9.998771          85.918583              0   \n",
      "4        13.365408             9.998362          84.106553              0   \n",
      "\n",
      "   vehicle_failure  \n",
      "0                1  \n",
      "1                0  \n",
      "2                1  \n",
      "3                1  \n",
      "4                0  \n",
      "Index(['Engine rpm', 'Lub oil pressure', 'Fuel pressure', 'Coolant pressure',\n",
      "       'lub oil temp', 'Coolant temp', 'Engine Condition', 'tire_pressure',\n",
      "       'battery_voltage', 'brake_pad_thickness', 'transmission_temp',\n",
      "       'failure_label', 'vehicle_failure'],\n",
      "      dtype='object')\n"
     ]
    }
   ],
   "source": [
    "import pandas as pd\n",
    "\n",
    "# Load dataset\n",
    "df = pd.read_csv(\"final_vehicle_data.csv\")\n",
    "\n",
    "# Display first few rows\n",
    "print(df.head())\n",
    "\n",
    "# Check column names\n",
    "print(df.columns)"
   ]
  },
  {
   "cell_type": "code",
   "execution_count": 6,
   "id": "2723193f-97ec-4700-8f07-d04277e7a2bb",
   "metadata": {},
   "outputs": [
    {
     "name": "stdout",
     "output_type": "stream",
     "text": [
      "Engine rpm             0\n",
      "Lub oil pressure       0\n",
      "Fuel pressure          0\n",
      "Coolant pressure       0\n",
      "lub oil temp           0\n",
      "Coolant temp           0\n",
      "Engine Condition       0\n",
      "tire_pressure          0\n",
      "battery_voltage        0\n",
      "brake_pad_thickness    0\n",
      "transmission_temp      0\n",
      "failure_label          0\n",
      "vehicle_failure        0\n",
      "dtype: int64\n"
     ]
    }
   ],
   "source": [
    "print(df.isnull().sum())  # Check missing values\n"
   ]
  },
  {
   "cell_type": "code",
   "execution_count": 7,
   "id": "bcfe910c-b8d6-41c2-968e-0f2f87009b15",
   "metadata": {},
   "outputs": [
    {
     "data": {
      "image/png": "[encoded data removed]",
      "text/plain": [
       "<Figure size 640x480 with 1 Axes>"
      ]
     },
     "metadata": {},
     "output_type": "display_data"
    },
    {
     "name": "stdout",
     "output_type": "stream",
     "text": [
      "vehicle_failure\n",
      "1    68.523164\n",
      "0    31.476836\n",
      "Name: proportion, dtype: float64\n"
     ]
    }
   ],
   "source": [
    "import seaborn as sns\n",
    "import matplotlib.pyplot as plt\n",
    "\n",
    "sns.countplot(x=df[\"vehicle_failure\"])\n",
    "plt.title(\"Target Variable Distribution\")\n",
    "plt.show()\n",
    "\n",
    "print(df[\"vehicle_failure\"].value_counts(normalize=True) * 100)  # Percentage of each class\n"
   ]
  },
  {
   "cell_type": "code",
   "execution_count": 8,
   "id": "ed0025c2-1dcf-44a5-bccc-e34f2e762aef",
   "metadata": {},
   "outputs": [
    {
     "name": "stdout",
     "output_type": "stream",
     "text": [
      "Requirement already satisfied: imbalanced-learn in c:\\users\\nalaj\\anaconda3\\lib\\site-packages (0.12.3)\n",
      "Requirement already satisfied: numpy>=1.17.3 in c:\\users\\nalaj\\appdata\\roaming\\python\\python312\\site-packages (from imbalanced-learn) (2.0.2)\n",
      "Requirement already satisfied: scipy>=1.5.0 in c:\\users\\nalaj\\anaconda3\\lib\\site-packages (from imbalanced-learn) (1.13.1)\n",
      "Requirement already satisfied: scikit-learn>=1.0.2 in c:\\users\\nalaj\\anaconda3\\lib\\site-packages (from imbalanced-learn) (1.5.1)\n",
      "Requirement already satisfied: joblib>=1.1.1 in c:\\users\\nalaj\\appdata\\roaming\\python\\python312\\site-packages (from imbalanced-learn) (1.4.2)\n",
      "Requirement already satisfied: threadpoolctl>=2.0.0 in c:\\users\\nalaj\\anaconda3\\lib\\site-packages (from imbalanced-learn) (3.5.0)\n"
     ]
    }
   ],
   "source": [
    "!pip install imbalanced-learn\n"
   ]
  },
  {
   "cell_type": "code",
   "execution_count": 9,
   "id": "52ada0d9-8d3a-4379-b4d7-5269a6f65d8e",
   "metadata": {},
   "outputs": [
    {
     "name": "stdout",
     "output_type": "stream",
     "text": [
      "vehicle_failure\n",
      "1    50.0\n",
      "0    50.0\n",
      "Name: proportion, dtype: float64\n"
     ]
    },
    {
     "name": "stderr",
     "output_type": "stream",
     "text": [
      "C:\\Users\\nalaj\\anaconda3\\envs\\my_env\\lib\\site-packages\\sklearn\\base.py:474: FutureWarning: `BaseEstimator._validate_data` is deprecated in 1.6 and will be removed in 1.7. Use `sklearn.utils.validation.validate_data` instead. This function becomes public and is part of the scikit-learn developer API.\n",
      "  warnings.warn(\n"
     ]
    }
   ],
   "source": [
    "from imblearn.over_sampling import SMOTE\n",
    "import pandas as pd\n",
    "\n",
    "# Separate features and target\n",
    "X = df.drop(columns=[\"vehicle_failure\"])\n",
    "y = df[\"vehicle_failure\"]\n",
    "\n",
    "# Apply SMOTE to balance classes\n",
    "smote = SMOTE(sampling_strategy=\"auto\", random_state=42)\n",
    "X_resampled, y_resampled = smote.fit_resample(X, y)\n",
    "\n",
    "# Convert back to DataFrame\n",
    "df_resampled = pd.DataFrame(X_resampled, columns=X.columns)\n",
    "df_resampled[\"vehicle_failure\"] = y_resampled\n",
    "\n",
    "# Check new class distribution\n",
    "print(y_resampled.value_counts(normalize=True) * 100)"
   ]
  },
  {
   "cell_type": "code",
   "execution_count": 10,
   "id": "41ab2c78-4ca7-4843-8da6-1cf4dc0905f7",
   "metadata": {},
   "outputs": [
    {
     "name": "stdout",
     "output_type": "stream",
     "text": [
      "Dataset saved as resampled_vehicle_data.csv\n"
     ]
    }
   ],
   "source": [
    "df_resampled.to_csv(\"resampled_vehicle_data.csv\", index=False)\n",
    "print(\"Dataset saved as resampled_vehicle_data.csv\")\n"
   ]
  },
  {
   "cell_type": "code",
   "execution_count": 11,
   "id": "cc2e9e51-9455-449d-90a3-20e7d17d4c00",
   "metadata": {},
   "outputs": [
    {
     "name": "stdout",
     "output_type": "stream",
     "text": [
      "Engine rpm             0\n",
      "Lub oil pressure       0\n",
      "Fuel pressure          0\n",
      "Coolant pressure       0\n",
      "lub oil temp           0\n",
      "Coolant temp           0\n",
      "Engine Condition       0\n",
      "tire_pressure          0\n",
      "battery_voltage        0\n",
      "brake_pad_thickness    0\n",
      "transmission_temp      0\n",
      "failure_label          0\n",
      "vehicle_failure        0\n",
      "dtype: int64\n"
     ]
    }
   ],
   "source": [
    "print(df_resampled.isnull().sum())\n"
   ]
  },
  {
   "cell_type": "code",
   "execution_count": 12,
   "id": "8a687be4-dcc0-4cee-ba29-77f44ef43012",
   "metadata": {},
   "outputs": [
    {
     "data": {
      "image/png": "[encoded data removed]",
      "text/plain": [
       "<Figure size 640x480 with 1 Axes>"
      ]
     },
     "metadata": {},
     "output_type": "display_data"
    }
   ],
   "source": [
    "import seaborn as sns\n",
    "import matplotlib.pyplot as plt\n",
    "\n",
    "sns.countplot(x=df_resampled[\"vehicle_failure\"])\n",
    "plt.title(\"Target Variable Distribution After SMOTE\")\n",
    "plt.show()\n"
   ]
  },
  {
   "cell_type": "code",
   "execution_count": 13,
   "id": "a10fc218-7cbd-4b7a-a3cd-cb4b44a6f905",
   "metadata": {},
   "outputs": [
    {
     "data": {
      "text/html": [
       "<div>\n",
       "<style scoped>\n",
       "    .dataframe tbody tr th:only-of-type {\n",
       "        vertical-align: middle;\n",
       "    }\n",
       "\n",
       "    .dataframe tbody tr th {\n",
       "        vertical-align: top;\n",
       "    }\n",
       "\n",
       "    .dataframe thead th {\n",
       "        text-align: right;\n",
       "    }\n",
       "</style>\n",
       "<table border=\"1\" class=\"dataframe\">\n",
       "  <thead>\n",
       "    <tr style=\"text-align: right;\">\n",
       "      <th></th>\n",
       "      <th>Engine rpm</th>\n",
       "      <th>Lub oil pressure</th>\n",
       "      <th>Fuel pressure</th>\n",
       "      <th>Coolant pressure</th>\n",
       "      <th>lub oil temp</th>\n",
       "      <th>Coolant temp</th>\n",
       "      <th>Engine Condition</th>\n",
       "      <th>tire_pressure</th>\n",
       "      <th>battery_voltage</th>\n",
       "      <th>brake_pad_thickness</th>\n",
       "      <th>transmission_temp</th>\n",
       "      <th>failure_label</th>\n",
       "      <th>vehicle_failure</th>\n",
       "    </tr>\n",
       "  </thead>\n",
       "  <tbody>\n",
       "    <tr>\n",
       "      <th>count</th>\n",
       "      <td>26772.000000</td>\n",
       "      <td>26772.000000</td>\n",
       "      <td>26772.000000</td>\n",
       "      <td>26772.000000</td>\n",
       "      <td>26772.000000</td>\n",
       "      <td>26772.000000</td>\n",
       "      <td>26772.000000</td>\n",
       "      <td>26772.000000</td>\n",
       "      <td>26772.000000</td>\n",
       "      <td>26772.000000</td>\n",
       "      <td>26772.000000</td>\n",
       "      <td>26772.000000</td>\n",
       "      <td>26772.000000</td>\n",
       "    </tr>\n",
       "    <tr>\n",
       "      <th>mean</th>\n",
       "      <td>815.651464</td>\n",
       "      <td>3.282558</td>\n",
       "      <td>6.522139</td>\n",
       "      <td>2.334688</td>\n",
       "      <td>77.707962</td>\n",
       "      <td>78.525057</td>\n",
       "      <td>0.460070</td>\n",
       "      <td>31.919539</td>\n",
       "      <td>12.481927</td>\n",
       "      <td>6.102084</td>\n",
       "      <td>85.224273</td>\n",
       "      <td>0.107538</td>\n",
       "      <td>0.500000</td>\n",
       "    </tr>\n",
       "    <tr>\n",
       "      <th>std</th>\n",
       "      <td>271.568451</td>\n",
       "      <td>0.974247</td>\n",
       "      <td>2.622872</td>\n",
       "      <td>0.992461</td>\n",
       "      <td>3.050677</td>\n",
       "      <td>6.053772</td>\n",
       "      <td>0.498412</td>\n",
       "      <td>2.280642</td>\n",
       "      <td>0.541749</td>\n",
       "      <td>2.201081</td>\n",
       "      <td>5.728908</td>\n",
       "      <td>0.309801</td>\n",
       "      <td>0.500009</td>\n",
       "    </tr>\n",
       "    <tr>\n",
       "      <th>min</th>\n",
       "      <td>61.000000</td>\n",
       "      <td>0.003384</td>\n",
       "      <td>0.003187</td>\n",
       "      <td>0.002483</td>\n",
       "      <td>71.321974</td>\n",
       "      <td>61.673325</td>\n",
       "      <td>0.000000</td>\n",
       "      <td>10.200821</td>\n",
       "      <td>8.002827</td>\n",
       "      <td>0.507958</td>\n",
       "      <td>63.523045</td>\n",
       "      <td>0.000000</td>\n",
       "      <td>0.000000</td>\n",
       "    </tr>\n",
       "    <tr>\n",
       "      <th>25%</th>\n",
       "      <td>616.000000</td>\n",
       "      <td>2.538350</td>\n",
       "      <td>4.883997</td>\n",
       "      <td>1.638033</td>\n",
       "      <td>75.843029</td>\n",
       "      <td>74.062562</td>\n",
       "      <td>0.000000</td>\n",
       "      <td>30.706921</td>\n",
       "      <td>12.173545</td>\n",
       "      <td>4.311355</td>\n",
       "      <td>81.795965</td>\n",
       "      <td>0.000000</td>\n",
       "      <td>0.000000</td>\n",
       "    </tr>\n",
       "    <tr>\n",
       "      <th>50%</th>\n",
       "      <td>774.000000</td>\n",
       "      <td>3.157164</td>\n",
       "      <td>6.092361</td>\n",
       "      <td>2.178203</td>\n",
       "      <td>76.886492</td>\n",
       "      <td>78.465480</td>\n",
       "      <td>0.000000</td>\n",
       "      <td>31.989852</td>\n",
       "      <td>12.500342</td>\n",
       "      <td>6.122324</td>\n",
       "      <td>85.048918</td>\n",
       "      <td>0.000000</td>\n",
       "      <td>0.500000</td>\n",
       "    </tr>\n",
       "    <tr>\n",
       "      <th>75%</th>\n",
       "      <td>963.000000</td>\n",
       "      <td>3.985849</td>\n",
       "      <td>7.566200</td>\n",
       "      <td>2.820879</td>\n",
       "      <td>78.101953</td>\n",
       "      <td>82.904392</td>\n",
       "      <td>1.000000</td>\n",
       "      <td>33.278758</td>\n",
       "      <td>12.817911</td>\n",
       "      <td>7.957961</td>\n",
       "      <td>88.356173</td>\n",
       "      <td>0.000000</td>\n",
       "      <td>1.000000</td>\n",
       "    </tr>\n",
       "    <tr>\n",
       "      <th>max</th>\n",
       "      <td>2239.000000</td>\n",
       "      <td>7.265566</td>\n",
       "      <td>21.138326</td>\n",
       "      <td>7.478505</td>\n",
       "      <td>89.580796</td>\n",
       "      <td>195.527912</td>\n",
       "      <td>1.000000</td>\n",
       "      <td>40.958169</td>\n",
       "      <td>14.363917</td>\n",
       "      <td>10.000000</td>\n",
       "      <td>139.819545</td>\n",
       "      <td>1.000000</td>\n",
       "      <td>1.000000</td>\n",
       "    </tr>\n",
       "  </tbody>\n",
       "</table>\n",
       "</div>"
      ],
      "text/plain": [
       "         Engine rpm  Lub oil pressure  Fuel pressure  Coolant pressure  \\\n",
       "count  26772.000000      26772.000000   26772.000000      26772.000000   \n",
       "mean     815.651464          3.282558       6.522139          2.334688   \n",
       "std      271.568451          0.974247       2.622872          0.992461   \n",
       "min       61.000000          0.003384       0.003187          0.002483   \n",
       "25%      616.000000          2.538350       4.883997          1.638033   \n",
       "50%      774.000000          3.157164       6.092361          2.178203   \n",
       "75%      963.000000          3.985849       7.566200          2.820879   \n",
       "max     2239.000000          7.265566      21.138326          7.478505   \n",
       "\n",
       "       lub oil temp  Coolant temp  Engine Condition  tire_pressure  \\\n",
       "count  26772.000000  26772.000000      26772.000000   26772.000000   \n",
       "mean      77.707962     78.525057          0.460070      31.919539   \n",
       "std        3.050677      6.053772          0.498412       2.280642   \n",
       "min       71.321974     61.673325          0.000000      10.200821   \n",
       "25%       75.843029     74.062562          0.000000      30.706921   \n",
       "50%       76.886492     78.465480          0.000000      31.989852   \n",
       "75%       78.101953     82.904392          1.000000      33.278758   \n",
       "max       89.580796    195.527912          1.000000      40.958169   \n",
       "\n",
       "       battery_voltage  brake_pad_thickness  transmission_temp  failure_label  \\\n",
       "count     26772.000000         26772.000000       26772.000000   26772.000000   \n",
       "mean         12.481927             6.102084          85.224273       0.107538   \n",
       "std           0.541749             2.201081           5.728908       0.309801   \n",
       "min           8.002827             0.507958          63.523045       0.000000   \n",
       "25%          12.173545             4.311355          81.795965       0.000000   \n",
       "50%          12.500342             6.122324          85.048918       0.000000   \n",
       "75%          12.817911             7.957961          88.356173       0.000000   \n",
       "max          14.363917            10.000000         139.819545       1.000000   \n",
       "\n",
       "       vehicle_failure  \n",
       "count     26772.000000  \n",
       "mean          0.500000  \n",
       "std           0.500009  \n",
       "min           0.000000  \n",
       "25%           0.000000  \n",
       "50%           0.500000  \n",
       "75%           1.000000  \n",
       "max           1.000000  "
      ]
     },
     "execution_count": 13,
     "metadata": {},
     "output_type": "execute_result"
    }
   ],
   "source": [
    "df_resampled.describe()\n"
   ]
  },
  {
   "cell_type": "code",
   "execution_count": 14,
   "id": "4866d966-563b-42fe-bebf-c6abd92fa27e",
   "metadata": {},
   "outputs": [
    {
     "data": {
      "image/png": "[encoded data removed]",
      "text/plain": [
       "<Figure size 1200x600 with 1 Axes>"
      ]
     },
     "metadata": {},
     "output_type": "display_data"
    }
   ],
   "source": [
    "import seaborn as sns\n",
    "import matplotlib.pyplot as plt\n",
    "\n",
    "plt.figure(figsize=(12,6))\n",
    "sns.boxplot(data=df_resampled)\n",
    "plt.xticks(rotation=90)\n",
    "plt.title(\"Boxplot of Features (Outlier Detection)\")\n",
    "plt.show()\n"
   ]
  },
  {
   "cell_type": "code",
   "execution_count": 15,
   "id": "ad11620e-045e-40c4-8627-db0eef692fa4",
   "metadata": {},
   "outputs": [
    {
     "data": {
      "text/html": [
       "<div>\n",
       "<style scoped>\n",
       "    .dataframe tbody tr th:only-of-type {\n",
       "        vertical-align: middle;\n",
       "    }\n",
       "\n",
       "    .dataframe tbody tr th {\n",
       "        vertical-align: top;\n",
       "    }\n",
       "\n",
       "    .dataframe thead th {\n",
       "        text-align: right;\n",
       "    }\n",
       "</style>\n",
       "<table border=\"1\" class=\"dataframe\">\n",
       "  <thead>\n",
       "    <tr style=\"text-align: right;\">\n",
       "      <th></th>\n",
       "      <th>count</th>\n",
       "      <th>mean</th>\n",
       "      <th>std</th>\n",
       "      <th>min</th>\n",
       "      <th>25%</th>\n",
       "      <th>50%</th>\n",
       "      <th>75%</th>\n",
       "      <th>max</th>\n",
       "    </tr>\n",
       "  </thead>\n",
       "  <tbody>\n",
       "    <tr>\n",
       "      <th>Engine rpm</th>\n",
       "      <td>26772.0</td>\n",
       "      <td>815.651464</td>\n",
       "      <td>271.568451</td>\n",
       "      <td>61.000000</td>\n",
       "      <td>616.000000</td>\n",
       "      <td>774.000000</td>\n",
       "      <td>963.000000</td>\n",
       "      <td>2239.000000</td>\n",
       "    </tr>\n",
       "    <tr>\n",
       "      <th>Lub oil pressure</th>\n",
       "      <td>26772.0</td>\n",
       "      <td>3.282558</td>\n",
       "      <td>0.974247</td>\n",
       "      <td>0.003384</td>\n",
       "      <td>2.538350</td>\n",
       "      <td>3.157164</td>\n",
       "      <td>3.985849</td>\n",
       "      <td>7.265566</td>\n",
       "    </tr>\n",
       "    <tr>\n",
       "      <th>Fuel pressure</th>\n",
       "      <td>26772.0</td>\n",
       "      <td>6.522139</td>\n",
       "      <td>2.622872</td>\n",
       "      <td>0.003187</td>\n",
       "      <td>4.883997</td>\n",
       "      <td>6.092361</td>\n",
       "      <td>7.566200</td>\n",
       "      <td>21.138326</td>\n",
       "    </tr>\n",
       "    <tr>\n",
       "      <th>Coolant pressure</th>\n",
       "      <td>26772.0</td>\n",
       "      <td>2.334688</td>\n",
       "      <td>0.992461</td>\n",
       "      <td>0.002483</td>\n",
       "      <td>1.638033</td>\n",
       "      <td>2.178203</td>\n",
       "      <td>2.820879</td>\n",
       "      <td>7.478505</td>\n",
       "    </tr>\n",
       "    <tr>\n",
       "      <th>lub oil temp</th>\n",
       "      <td>26772.0</td>\n",
       "      <td>77.707962</td>\n",
       "      <td>3.050677</td>\n",
       "      <td>71.321974</td>\n",
       "      <td>75.843029</td>\n",
       "      <td>76.886492</td>\n",
       "      <td>78.101953</td>\n",
       "      <td>89.580796</td>\n",
       "    </tr>\n",
       "    <tr>\n",
       "      <th>Coolant temp</th>\n",
       "      <td>26772.0</td>\n",
       "      <td>78.525057</td>\n",
       "      <td>6.053772</td>\n",
       "      <td>61.673325</td>\n",
       "      <td>74.062562</td>\n",
       "      <td>78.465480</td>\n",
       "      <td>82.904392</td>\n",
       "      <td>195.527912</td>\n",
       "    </tr>\n",
       "    <tr>\n",
       "      <th>Engine Condition</th>\n",
       "      <td>26772.0</td>\n",
       "      <td>0.460070</td>\n",
       "      <td>0.498412</td>\n",
       "      <td>0.000000</td>\n",
       "      <td>0.000000</td>\n",
       "      <td>0.000000</td>\n",
       "      <td>1.000000</td>\n",
       "      <td>1.000000</td>\n",
       "    </tr>\n",
       "    <tr>\n",
       "      <th>tire_pressure</th>\n",
       "      <td>26772.0</td>\n",
       "      <td>31.919539</td>\n",
       "      <td>2.280642</td>\n",
       "      <td>10.200821</td>\n",
       "      <td>30.706921</td>\n",
       "      <td>31.989852</td>\n",
       "      <td>33.278758</td>\n",
       "      <td>40.958169</td>\n",
       "    </tr>\n",
       "    <tr>\n",
       "      <th>battery_voltage</th>\n",
       "      <td>26772.0</td>\n",
       "      <td>12.481927</td>\n",
       "      <td>0.541749</td>\n",
       "      <td>8.002827</td>\n",
       "      <td>12.173545</td>\n",
       "      <td>12.500342</td>\n",
       "      <td>12.817911</td>\n",
       "      <td>14.363917</td>\n",
       "    </tr>\n",
       "    <tr>\n",
       "      <th>brake_pad_thickness</th>\n",
       "      <td>26772.0</td>\n",
       "      <td>6.102084</td>\n",
       "      <td>2.201081</td>\n",
       "      <td>0.507958</td>\n",
       "      <td>4.311355</td>\n",
       "      <td>6.122324</td>\n",
       "      <td>7.957961</td>\n",
       "      <td>10.000000</td>\n",
       "    </tr>\n",
       "    <tr>\n",
       "      <th>transmission_temp</th>\n",
       "      <td>26772.0</td>\n",
       "      <td>85.224273</td>\n",
       "      <td>5.728908</td>\n",
       "      <td>63.523045</td>\n",
       "      <td>81.795965</td>\n",
       "      <td>85.048918</td>\n",
       "      <td>88.356173</td>\n",
       "      <td>139.819545</td>\n",
       "    </tr>\n",
       "    <tr>\n",
       "      <th>failure_label</th>\n",
       "      <td>26772.0</td>\n",
       "      <td>0.107538</td>\n",
       "      <td>0.309801</td>\n",
       "      <td>0.000000</td>\n",
       "      <td>0.000000</td>\n",
       "      <td>0.000000</td>\n",
       "      <td>0.000000</td>\n",
       "      <td>1.000000</td>\n",
       "    </tr>\n",
       "    <tr>\n",
       "      <th>vehicle_failure</th>\n",
       "      <td>26772.0</td>\n",
       "      <td>0.500000</td>\n",
       "      <td>0.500009</td>\n",
       "      <td>0.000000</td>\n",
       "      <td>0.000000</td>\n",
       "      <td>0.500000</td>\n",
       "      <td>1.000000</td>\n",
       "      <td>1.000000</td>\n",
       "    </tr>\n",
       "  </tbody>\n",
       "</table>\n",
       "</div>"
      ],
      "text/plain": [
       "                       count        mean         std        min         25%  \\\n",
       "Engine rpm           26772.0  815.651464  271.568451  61.000000  616.000000   \n",
       "Lub oil pressure     26772.0    3.282558    0.974247   0.003384    2.538350   \n",
       "Fuel pressure        26772.0    6.522139    2.622872   0.003187    4.883997   \n",
       "Coolant pressure     26772.0    2.334688    0.992461   0.002483    1.638033   \n",
       "lub oil temp         26772.0   77.707962    3.050677  71.321974   75.843029   \n",
       "Coolant temp         26772.0   78.525057    6.053772  61.673325   74.062562   \n",
       "Engine Condition     26772.0    0.460070    0.498412   0.000000    0.000000   \n",
       "tire_pressure        26772.0   31.919539    2.280642  10.200821   30.706921   \n",
       "battery_voltage      26772.0   12.481927    0.541749   8.002827   12.173545   \n",
       "brake_pad_thickness  26772.0    6.102084    2.201081   0.507958    4.311355   \n",
       "transmission_temp    26772.0   85.224273    5.728908  63.523045   81.795965   \n",
       "failure_label        26772.0    0.107538    0.309801   0.000000    0.000000   \n",
       "vehicle_failure      26772.0    0.500000    0.500009   0.000000    0.000000   \n",
       "\n",
       "                            50%         75%          max  \n",
       "Engine rpm           774.000000  963.000000  2239.000000  \n",
       "Lub oil pressure       3.157164    3.985849     7.265566  \n",
       "Fuel pressure          6.092361    7.566200    21.138326  \n",
       "Coolant pressure       2.178203    2.820879     7.478505  \n",
       "lub oil temp          76.886492   78.101953    89.580796  \n",
       "Coolant temp          78.465480   82.904392   195.527912  \n",
       "Engine Condition       0.000000    1.000000     1.000000  \n",
       "tire_pressure         31.989852   33.278758    40.958169  \n",
       "battery_voltage       12.500342   12.817911    14.363917  \n",
       "brake_pad_thickness    6.122324    7.957961    10.000000  \n",
       "transmission_temp     85.048918   88.356173   139.819545  \n",
       "failure_label          0.000000    0.000000     1.000000  \n",
       "vehicle_failure        0.500000    1.000000     1.000000  "
      ]
     },
     "execution_count": 15,
     "metadata": {},
     "output_type": "execute_result"
    }
   ],
   "source": [
    "df_resampled.describe().T\n"
   ]
  },
  {
   "cell_type": "code",
   "execution_count": 16,
   "id": "c854f9f4-503c-462e-b1aa-c141756441a3",
   "metadata": {},
   "outputs": [
    {
     "name": "stdout",
     "output_type": "stream",
     "text": [
      "   Engine rpm  Lub oil pressure  Fuel pressure  Coolant pressure  \\\n",
      "0         700          2.493592      11.790927          3.178981   \n",
      "1         876          2.941606      16.193866          2.464504   \n",
      "2         520          2.961746       6.553147          1.064347   \n",
      "3         473          3.707835      19.510172          3.727455   \n",
      "4         619          5.672919      15.738871          2.052251   \n",
      "\n",
      "   lub oil temp  Coolant temp  Engine Condition  tire_pressure  \\\n",
      "0     84.144163     81.632187                 1      32.993428   \n",
      "1     77.640934     82.445724                 0      31.723471   \n",
      "2     77.752266     79.645777                 1      33.295377   \n",
      "3     74.129907     71.774629                 1      35.046060   \n",
      "4     78.396989     87.000225                 0      31.531693   \n",
      "\n",
      "   battery_voltage  brake_pad_thickness  transmission_temp  failure_label  \\\n",
      "0        12.292718            10.000000          85.979270              0   \n",
      "1        12.101888             9.999590          78.653798              0   \n",
      "2        12.153151             9.999181          88.331885              0   \n",
      "3        12.389198             9.998771          85.918583              0   \n",
      "4        13.365408             9.998362          84.106553              0   \n",
      "\n",
      "   vehicle_failure  \n",
      "0                1  \n",
      "1                0  \n",
      "2                1  \n",
      "3                1  \n",
      "4                0  \n",
      "Index(['Engine rpm', 'Lub oil pressure', 'Fuel pressure', 'Coolant pressure',\n",
      "       'lub oil temp', 'Coolant temp', 'Engine Condition', 'tire_pressure',\n",
      "       'battery_voltage', 'brake_pad_thickness', 'transmission_temp',\n",
      "       'failure_label', 'vehicle_failure'],\n",
      "      dtype='object')\n"
     ]
    }
   ],
   "source": [
    "import pandas as pd\n",
    "\n",
    "# Load dataset\n",
    "df = pd.read_csv(\"resampled_vehicle_data.csv\")\n",
    "\n",
    "# Display first few rows\n",
    "print(df.head())\n",
    "\n",
    "# Check column names\n",
    "print(df.columns)\n"
   ]
  },
  {
   "cell_type": "code",
   "execution_count": 17,
   "id": "b6cfb534-1642-4a35-ad6a-96a109fd1aad",
   "metadata": {},
   "outputs": [
    {
     "name": "stdout",
     "output_type": "stream",
     "text": [
      "Engine rpm               int64\n",
      "Lub oil pressure       float64\n",
      "Fuel pressure          float64\n",
      "Coolant pressure       float64\n",
      "lub oil temp           float64\n",
      "Coolant temp           float64\n",
      "Engine Condition         int64\n",
      "tire_pressure          float64\n",
      "battery_voltage        float64\n",
      "brake_pad_thickness    float64\n",
      "transmission_temp      float64\n",
      "failure_label            int64\n",
      "vehicle_failure          int64\n",
      "dtype: object\n"
     ]
    }
   ],
   "source": [
    "print(df.dtypes)\n"
   ]
  },
  {
   "cell_type": "code",
   "execution_count": 18,
   "id": "45847388-4801-40d3-90ef-f32e3392aa2f",
   "metadata": {},
   "outputs": [
    {
     "name": "stdout",
     "output_type": "stream",
     "text": [
      "Engine rpm             0\n",
      "Lub oil pressure       0\n",
      "Fuel pressure          0\n",
      "Coolant pressure       0\n",
      "lub oil temp           0\n",
      "Coolant temp           0\n",
      "Engine Condition       0\n",
      "tire_pressure          0\n",
      "battery_voltage        0\n",
      "brake_pad_thickness    0\n",
      "transmission_temp      0\n",
      "failure_label          0\n",
      "vehicle_failure        0\n",
      "dtype: int64\n"
     ]
    }
   ],
   "source": [
    "print(df.isnull().sum())\n"
   ]
  },
  {
   "cell_type": "code",
   "execution_count": 19,
   "id": "b9797777-16a6-46ca-b01a-d36b10e03fc6",
   "metadata": {},
   "outputs": [
    {
     "name": "stdout",
     "output_type": "stream",
     "text": [
      "vehicle_failure\n",
      "1    50.0\n",
      "0    50.0\n",
      "Name: proportion, dtype: float64\n"
     ]
    }
   ],
   "source": [
    "print(df['vehicle_failure'].value_counts(normalize=True) * 100)\n"
   ]
  },
  {
   "cell_type": "code",
   "execution_count": 20,
   "id": "d800d087-2703-4065-9146-572bc312d51e",
   "metadata": {},
   "outputs": [
    {
     "name": "stdout",
     "output_type": "stream",
     "text": [
      "✅ Accuracy: 0.7675070028011205\n",
      "\n",
      "✅ Classification Report:\n",
      "               precision    recall  f1-score   support\n",
      "\n",
      "           0       0.73      0.85      0.79      2678\n",
      "           1       0.82      0.68      0.75      2677\n",
      "\n",
      "    accuracy                           0.77      5355\n",
      "   macro avg       0.78      0.77      0.77      5355\n",
      "weighted avg       0.78      0.77      0.77      5355\n",
      "\n"
     ]
    },
    {
     "data": {
      "image/png": "[encoded data removed]",
      "text/plain": [
       "<Figure size 600x400 with 2 Axes>"
      ]
     },
     "metadata": {},
     "output_type": "display_data"
    }
   ],
   "source": [
    "# ✅ Step 1: Import necessary libraries\n",
    "import pandas as pd\n",
    "from sklearn.model_selection import train_test_split\n",
    "from sklearn.ensemble import RandomForestClassifier\n",
    "from sklearn.metrics import classification_report, accuracy_score, confusion_matrix\n",
    "import seaborn as sns\n",
    "import matplotlib.pyplot as plt\n",
    "\n",
    "# ✅ Step 2: Load your dataset (assuming it's already loaded as `df`)\n",
    "# If not loaded yet, uncomment and use:\n",
    "# df = pd.read_csv(\"your_file.csv\")\n",
    "\n",
    "# ✅ Step 3: Define features (X) and target (y)\n",
    "X = df.drop(columns=[\"vehicle_failure\", \"Engine Condition\", \"failure_label\"])  # All features\n",
    "y = df[\"vehicle_failure\"]                 # Target label\n",
    "\n",
    "# ✅ Step 4: Split data into training and testing sets (stratified to preserve class balance)\n",
    "X_train, X_test, y_train, y_test = train_test_split(\n",
    "    X, y, test_size=0.2, stratify=y, random_state=42\n",
    ")\n",
    "\n",
    "# ✅ Step 5: Initialize and train the Random Forest model\n",
    "rf_model = RandomForestClassifier(\n",
    "    n_estimators=100,\n",
    "    random_state=42,\n",
    "    max_depth=None,\n",
    "    class_weight=\"balanced\"  # optional, helps with any future imbalance\n",
    ")\n",
    "rf_model.fit(X_train, y_train)\n",
    "\n",
    "# ✅ Step 6: Make predictions on test set\n",
    "y_pred = rf_model.predict(X_test)\n",
    "\n",
    "# ✅ Step 7: Evaluate the model\n",
    "print(\"✅ Accuracy:\", accuracy_score(y_test, y_pred))\n",
    "print(\"\\n✅ Classification Report:\\n\", classification_report(y_test, y_pred))\n",
    "\n",
    "# ✅ Step 8: Plot Confusion Matrix\n",
    "cm = confusion_matrix(y_test, y_pred)\n",
    "plt.figure(figsize=(6,4))\n",
    "sns.heatmap(cm, annot=True, fmt=\"d\", cmap=\"Blues\", xticklabels=[\"No Failure\", \"Failure\"], yticklabels=[\"No Failure\", \"Failure\"])\n",
    "plt.xlabel(\"Predicted\")\n",
    "plt.ylabel(\"Actual\")\n",
    "plt.title(\"Confusion Matrix\")\n",
    "plt.show()"
   ]
  },
  {
   "cell_type": "code",
   "execution_count": 26,
   "id": "a0967f70-00e5-44b4-b1b3-bfe29c8ef349",
   "metadata": {},
   "outputs": [
    {
     "name": "stdout",
     "output_type": "stream",
     "text": [
      "✅ ROC AUC Score: 0.9912\n"
     ]
    },
    {
     "data": {
      "image/png": "[encoded data removed]",
      "text/plain": [
       "<Figure size 640x480 with 1 Axes>"
      ]
     },
     "metadata": {},
     "output_type": "display_data"
    }
   ],
   "source": [
    "from sklearn.metrics import roc_auc_score, roc_curve\n",
    "\n",
    "# Predict probabilities\n",
    "y_proba = rf_model.predict_proba(X_test)[:, 1]\n",
    "\n",
    "# ROC AUC score\n",
    "roc_auc = roc_auc_score(y_test, y_proba)\n",
    "print(f\"✅ ROC AUC Score: {roc_auc:.4f}\")\n",
    "\n",
    "# Plot ROC Curve\n",
    "fpr, tpr, thresholds = roc_curve(y_test, y_proba)\n",
    "\n",
    "plt.figure()\n",
    "plt.plot(fpr, tpr, label=f'ROC curve (area = {roc_auc:.2f})')\n",
    "plt.plot([0, 1], [0, 1], 'k--', label='Random Guess')\n",
    "plt.xlabel('False Positive Rate')\n",
    "plt.ylabel('True Positive Rate')\n",
    "plt.title('Receiver Operating Characteristic (ROC) Curve')\n",
    "plt.legend(loc=\"lower right\")\n",
    "plt.grid()\n",
    "plt.show()\n"
   ]
  },
  {
   "cell_type": "code",
   "execution_count": 30,
   "id": "27bc451d-e532-48fa-a7e1-80e0c811871b",
   "metadata": {},
   "outputs": [
    {
     "name": "stdout",
     "output_type": "stream",
     "text": [
      "Model saved successfully as rf_model.pkl\n"
     ]
    }
   ],
   "source": [
    "import pickle\n",
    "\n",
    "# rf_model is your already trained model\n",
    "with open(\"rf_model.pkl\", \"wb\") as f:\n",
    "    pickle.dump(rf_model, f)\n",
    "\n",
    "print(\"Model saved successfully as rf_model.pkl\")\n"
   ]
  },
  {
   "cell_type": "code",
   "execution_count": null,
   "id": "1e099367-3015-4f77-8fbb-019181fcc43b",
   "metadata": {},
   "outputs": [],
   "source": []
  }
 ],
 "metadata": {
  "kernelspec": {
   "display_name": "Python (my_env)",
   "language": "python",
   "name": "my_env"
  },
  "language_info": {
   "codemirror_mode": {
    "name": "ipython",
    "version": 3
   },
   "file_extension": ".py",
   "mimetype": "text/x-python",
   "name": "python",
   "nbconvert_exporter": "python",
   "pygments_lexer": "ipython3",
   "version": "3.9.21"
  }
 },
 "nbformat": 4,
 "nbformat_minor": 5
}
